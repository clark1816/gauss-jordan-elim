{
  "nbformat": 4,
  "nbformat_minor": 0,
  "metadata": {
    "colab": {
      "provenance": []
    },
    "kernelspec": {
      "name": "python3",
      "display_name": "Python 3"
    },
    "language_info": {
      "name": "python"
    }
  },
  "cells": [
    {
      "cell_type": "markdown",
      "source": [
        "Linear Algebra in code\n"
      ],
      "metadata": {
        "id": "5sGYg4wdZXXx"
      }
    },
    {
      "cell_type": "code",
      "source": [
        "import torch\n",
        "import numpy as np\n",
        "\n",
        "a = torch.IntTensor(3,2)\n",
        "b = torch.IntTensor(3,2)\n",
        "\n",
        "a\n"
      ],
      "metadata": {
        "id": "EpRBUCO1Zagx",
        "colab": {
          "base_uri": "https://localhost:8080/"
        },
        "outputId": "53615fd1-6e60-4957-bea3-dd44acee59a9"
      },
      "execution_count": null,
      "outputs": [
        {
          "output_type": "execute_result",
          "data": {
            "text/plain": [
              "tensor([[133941376,         0],\n",
              "        [       27,         0],\n",
              "        [       -1,         0]], dtype=torch.int32)"
            ]
          },
          "metadata": {},
          "execution_count": 1
        }
      ]
    },
    {
      "cell_type": "code",
      "source": [
        "!pip install torch"
      ],
      "metadata": {
        "colab": {
          "base_uri": "https://localhost:8080/"
        },
        "id": "LzTvoBcdmQct",
        "outputId": "aee45630-78b3-4877-f335-dbe26a7a607c"
      },
      "execution_count": null,
      "outputs": [
        {
          "output_type": "stream",
          "name": "stdout",
          "text": [
            "Looking in indexes: https://pypi.org/simple, https://us-python.pkg.dev/colab-wheels/public/simple/\n",
            "Requirement already satisfied: torch in /usr/local/lib/python3.8/dist-packages (1.13.1+cu116)\n",
            "Requirement already satisfied: typing-extensions in /usr/local/lib/python3.8/dist-packages (from torch) (4.4.0)\n"
          ]
        }
      ]
    },
    {
      "cell_type": "markdown",
      "source": [
        "Here we just created a 3x2 matrix"
      ],
      "metadata": {
        "id": "Kr0jXjBBZw2b"
      }
    },
    {
      "cell_type": "markdown",
      "source": [
        "# Matrix multipy"
      ],
      "metadata": {
        "id": "8MHk-3dc79Di"
      }
    },
    {
      "cell_type": "code",
      "source": [
        "import torch\n",
        "import numpy as np\n",
        "a = torch.FloatTensor([[1,2,3],[3,2,1],[3,3,3]])\n",
        "b = torch.FloatTensor([[13,13,13],[3,2,1],[1,2,3]])\n",
        "torch.mm(a, b, out=None)\n"
      ],
      "metadata": {
        "id": "oHANNsjZac1O",
        "colab": {
          "base_uri": "https://localhost:8080/"
        },
        "outputId": "6cf7202e-369a-4f2b-efc6-636c5e2ece61"
      },
      "execution_count": null,
      "outputs": [
        {
          "output_type": "execute_result",
          "data": {
            "text/plain": [
              "tensor([[22., 23., 24.],\n",
              "        [46., 45., 44.],\n",
              "        [51., 51., 51.]])"
            ]
          },
          "metadata": {},
          "execution_count": 2
        }
      ]
    },
    {
      "cell_type": "markdown",
      "source": [
        "# Gauss-Jordan Elimination using python \n",
        "\n",
        "## page of helpful torch info\n",
        "\n",
        "https://pytorch.org/docs/master/torch.html#torch.gesv\n",
        "\n",
        "consider the video \n",
        "https://www.youtube.com/watch?v=0fTSBIBD7Cs\n",
        "\n",
        "\n",
        "\n",
        "*   x+y+2z = -1\n",
        "*   x+3y-6z = 7\n",
        "*   2x-y+2z = 0\n",
        "\n",
        "What is the goal?\n",
        "convert this junk above into something that looks like this \n",
        "[1,0,0, a] which means 1*x+0*y+0*z=a\n",
        "so mainly x = a\n",
        "\n",
        "similarly a=x, b=y, c=z\n",
        "\n",
        "\n",
        "step 1 augment the matrix \n"
      ],
      "metadata": {
        "id": "RmG5PS_0F-N8"
      }
    },
    {
      "cell_type": "code",
      "source": [
        "import torch\n",
        "\n",
        "# Define the augmented matrix\n",
        "aug = torch.FloatTensor([[10,3,5, 13], [2,9,10, 1], [12,19,10, 19]])\n",
        "print(\"Augmented matrix:\")\n",
        "print(aug)\n",
        "\n",
        "# Get the size of the matrix\n",
        "size = aug.size()\n",
        "width = size[1]\n",
        "length = size[0]\n",
        "\n",
        "for k in range(length):\n",
        "    # Find the row with the maximum value in column k\n",
        "    max_index = torch.argmax(torch.abs(aug[k,k])) + k\n",
        "    \n",
        "    # Swap the current row with the row containing the maximum value\n",
        "    if k != max_index:\n",
        "        aug[[k, max_index]] = aug[[max_index, k]]\n",
        "    \n",
        "    # Check if the pivot is 0\n",
        "    if aug[k, k] == 0:\n",
        "        print(\"Pivot is 0, cannot proceed with Gaussian elimination.\")\n",
        "        break\n",
        "    \n",
        "    # Divide the current row by the pivot\n",
        "    aug[k] = aug[k] / aug[k, k]\n",
        "    \n",
        "    # Subtract the current row from all the other rows to get zeros in the lower triangle\n",
        "    for i in range(length):\n",
        "        if i == k:\n",
        "            continue\n",
        "        factor = aug[i, k]\n",
        "        aug[i] -= factor * aug[k]\n",
        "\n",
        "print(\"Result:\")\n",
        "print(aug)\n"
      ],
      "metadata": {
        "colab": {
          "base_uri": "https://localhost:8080/"
        },
        "id": "xRVDK3yk2XS6",
        "outputId": "b6dc76cd-6a11-4c13-ee30-b009a3c1d44b"
      },
      "execution_count": 1,
      "outputs": [
        {
          "output_type": "stream",
          "name": "stdout",
          "text": [
            "Augmented matrix:\n",
            "tensor([[10.,  3.,  5., 13.],\n",
            "        [ 2.,  9., 10.,  1.],\n",
            "        [12., 19., 10., 19.]])\n",
            "Result:\n",
            "tensor([[ 1.0000,  0.0000,  0.0000,  1.4476],\n",
            "        [ 0.0000,  1.0000,  0.0000,  0.3524],\n",
            "        [-0.0000, -0.0000,  1.0000, -0.5067]])\n"
          ]
        }
      ]
    }
  ]
}